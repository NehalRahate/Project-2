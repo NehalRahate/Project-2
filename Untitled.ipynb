{
 "cells": [
  {
   "cell_type": "code",
   "execution_count": 1,
   "id": "8c75a508-a350-4324-8859-87d84a974f06",
   "metadata": {
    "collapsed": true,
    "jupyter": {
     "outputs_hidden": true,
     "source_hidden": true
    },
    "tags": []
   },
   "outputs": [
    {
     "name": "stdout",
     "output_type": "stream",
     "text": [
      "Requirement already satisfied: truecallerpy in c:\\users\\nehal\\anaconda3\\lib\\site-packages (1.0.3)\n",
      "Requirement already satisfied: phonenumbers in c:\\users\\nehal\\anaconda3\\lib\\site-packages (from truecallerpy) (8.13.20)\n",
      "Requirement already satisfied: colorama in c:\\users\\nehal\\anaconda3\\lib\\site-packages (from truecallerpy) (0.4.6)\n",
      "Requirement already satisfied: httpx in c:\\users\\nehal\\anaconda3\\lib\\site-packages (from truecallerpy) (0.25.0)\n",
      "Requirement already satisfied: questionary in c:\\users\\nehal\\anaconda3\\lib\\site-packages (from truecallerpy) (2.0.1)\n",
      "Requirement already satisfied: certifi in c:\\users\\nehal\\anaconda3\\lib\\site-packages (from httpx->truecallerpy) (2023.5.7)\n",
      "Requirement already satisfied: idna in c:\\users\\nehal\\anaconda3\\lib\\site-packages (from httpx->truecallerpy) (3.4)\n",
      "Requirement already satisfied: httpcore<0.19.0,>=0.18.0 in c:\\users\\nehal\\anaconda3\\lib\\site-packages (from httpx->truecallerpy) (0.18.0)\n",
      "Requirement already satisfied: sniffio in c:\\users\\nehal\\anaconda3\\lib\\site-packages (from httpx->truecallerpy) (1.2.0)\n",
      "Requirement already satisfied: prompt_toolkit<=3.0.36,>=2.0 in c:\\users\\nehal\\anaconda3\\lib\\site-packages (from questionary->truecallerpy) (3.0.36)\n",
      "Requirement already satisfied: h11<0.15,>=0.13 in c:\\users\\nehal\\anaconda3\\lib\\site-packages (from httpcore<0.19.0,>=0.18.0->httpx->truecallerpy) (0.14.0)\n",
      "Requirement already satisfied: anyio<5.0,>=3.0 in c:\\users\\nehal\\anaconda3\\lib\\site-packages (from httpcore<0.19.0,>=0.18.0->httpx->truecallerpy) (3.5.0)\n",
      "Requirement already satisfied: wcwidth in c:\\users\\nehal\\anaconda3\\lib\\site-packages (from prompt_toolkit<=3.0.36,>=2.0->questionary->truecallerpy) (0.2.5)\n",
      "Note: you may need to restart the kernel to use updated packages.\n"
     ]
    }
   ],
   "source": [
    "pip install truecallerpy"
   ]
  },
  {
   "cell_type": "code",
   "execution_count": 3,
   "id": "b60c1edc",
   "metadata": {
    "tags": []
   },
   "outputs": [
    {
     "ename": "NameError",
     "evalue": "name 'truecallerpy' is not defined",
     "output_type": "error",
     "traceback": [
      "\u001b[1;31m---------------------------------------------------------------------------\u001b[0m",
      "\u001b[1;31mNameError\u001b[0m                                 Traceback (most recent call last)",
      "Cell \u001b[1;32mIn[3], line 1\u001b[0m\n\u001b[1;32m----> 1\u001b[0m \u001b[43mtruecallerpy\u001b[49m \u001b[38;5;241m-\u001b[39mi\u001b[38;5;241m-\u001b[39mr\n",
      "\u001b[1;31mNameError\u001b[0m: name 'truecallerpy' is not defined"
     ]
    }
   ],
   "source": [
    "truecallerpy -i-r\n"
   ]
  },
  {
   "cell_type": "code",
   "execution_count": null,
   "id": "803fb51a",
   "metadata": {},
   "outputs": [],
   "source": []
  }
 ],
 "metadata": {
  "kernelspec": {
   "display_name": "Python 3 (ipykernel)",
   "language": "python",
   "name": "python3"
  },
  "language_info": {
   "codemirror_mode": {
    "name": "ipython",
    "version": 3
   },
   "file_extension": ".py",
   "mimetype": "text/x-python",
   "name": "python",
   "nbconvert_exporter": "python",
   "pygments_lexer": "ipython3",
   "version": "3.10.9"
  }
 },
 "nbformat": 4,
 "nbformat_minor": 5
}
